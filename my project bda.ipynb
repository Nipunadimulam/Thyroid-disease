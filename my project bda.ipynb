{
 "cells": [
  {
   "cell_type": "code",
   "execution_count": 3,
   "metadata": {},
   "outputs": [],
   "source": [
    "#import numpy for linear algebra\n",
    "import numpy as np \n",
    "\n",
    "#import pandas for data processing, CSV file I/O (e.g. pd.read_csv)\n",
    "import pandas as pd \n",
    "\n",
    "#import visualization seaborn \n",
    "import seaborn as sns\n",
    "\n",
    "#import visualization matplotlib\n",
    "import matplotlib.pyplot as plt\n",
    "\n",
    "#import OS\n",
    "import os\n",
    "\n",
    "#import statistics \n",
    "from scipy import stats\n",
    "#import metric module\n",
    "from sklearn import metrics\n",
    "\n",
    "#import Label encoder for convert alphabet to numeric\n",
    "from sklearn.preprocessing import LabelEncoder\n",
    "\n",
    "#import splitting model from sklearn\n",
    "from sklearn.model_selection import train_test_split\n",
    "\n",
    "#import DT model\n",
    "from sklearn.tree import DecisionTreeClassifier \n",
    "\n",
    "#import NB model\n",
    "from sklearn.naive_bayes import GaussianNB\n",
    "\n",
    "#import KNN model\n",
    "from sklearn.neighbors import KNeighborsClassifier\n",
    "\n",
    "#import SVC\n",
    "from sklearn.svm import SVC"
   ]
  },
  {
   "cell_type": "code",
   "execution_count": null,
   "metadata": {},
   "outputs": [],
   "source": []
  },
  {
   "cell_type": "code",
   "execution_count": 5,
   "metadata": {},
   "outputs": [
    {
     "data": {
      "text/html": [
       "<div>\n",
       "<style scoped>\n",
       "    .dataframe tbody tr th:only-of-type {\n",
       "        vertical-align: middle;\n",
       "    }\n",
       "\n",
       "    .dataframe tbody tr th {\n",
       "        vertical-align: top;\n",
       "    }\n",
       "\n",
       "    .dataframe thead th {\n",
       "        text-align: right;\n",
       "    }\n",
       "</style>\n",
       "<table border=\"1\" class=\"dataframe\">\n",
       "  <thead>\n",
       "    <tr style=\"text-align: right;\">\n",
       "      <th></th>\n",
       "      <th>Disease</th>\n",
       "      <th>Age</th>\n",
       "      <th>Sex</th>\n",
       "      <th>on_thyroxine</th>\n",
       "      <th>query_on_thyroxine</th>\n",
       "      <th>on_antithyroid_medication</th>\n",
       "      <th>thyroid_surgery</th>\n",
       "      <th>query_hypothyroid</th>\n",
       "      <th>query_hyperthyroid</th>\n",
       "      <th>pregnant</th>\n",
       "      <th>...</th>\n",
       "      <th>T3_measured</th>\n",
       "      <th>T3</th>\n",
       "      <th>TT4_measured</th>\n",
       "      <th>TT4</th>\n",
       "      <th>T4U_measured</th>\n",
       "      <th>T4U</th>\n",
       "      <th>FTI_measured</th>\n",
       "      <th>FTI</th>\n",
       "      <th>TBG_measured</th>\n",
       "      <th>TBG</th>\n",
       "    </tr>\n",
       "  </thead>\n",
       "  <tbody>\n",
       "    <tr>\n",
       "      <th>0</th>\n",
       "      <td>hypothyroid</td>\n",
       "      <td>72</td>\n",
       "      <td>M</td>\n",
       "      <td>f</td>\n",
       "      <td>f</td>\n",
       "      <td>f</td>\n",
       "      <td>f</td>\n",
       "      <td>f</td>\n",
       "      <td>f</td>\n",
       "      <td>f</td>\n",
       "      <td>...</td>\n",
       "      <td>y</td>\n",
       "      <td>0.6</td>\n",
       "      <td>y</td>\n",
       "      <td>15</td>\n",
       "      <td>y</td>\n",
       "      <td>1.48</td>\n",
       "      <td>y</td>\n",
       "      <td>10</td>\n",
       "      <td>n</td>\n",
       "      <td>?</td>\n",
       "    </tr>\n",
       "    <tr>\n",
       "      <th>1</th>\n",
       "      <td>hypothyroid</td>\n",
       "      <td>15</td>\n",
       "      <td>F</td>\n",
       "      <td>t</td>\n",
       "      <td>f</td>\n",
       "      <td>f</td>\n",
       "      <td>f</td>\n",
       "      <td>f</td>\n",
       "      <td>f</td>\n",
       "      <td>f</td>\n",
       "      <td>...</td>\n",
       "      <td>y</td>\n",
       "      <td>1.7</td>\n",
       "      <td>y</td>\n",
       "      <td>19</td>\n",
       "      <td>y</td>\n",
       "      <td>1.13</td>\n",
       "      <td>y</td>\n",
       "      <td>17</td>\n",
       "      <td>n</td>\n",
       "      <td>?</td>\n",
       "    </tr>\n",
       "    <tr>\n",
       "      <th>2</th>\n",
       "      <td>hypothyroid</td>\n",
       "      <td>24</td>\n",
       "      <td>M</td>\n",
       "      <td>f</td>\n",
       "      <td>f</td>\n",
       "      <td>f</td>\n",
       "      <td>f</td>\n",
       "      <td>f</td>\n",
       "      <td>f</td>\n",
       "      <td>f</td>\n",
       "      <td>...</td>\n",
       "      <td>y</td>\n",
       "      <td>0.2</td>\n",
       "      <td>y</td>\n",
       "      <td>4</td>\n",
       "      <td>y</td>\n",
       "      <td>1</td>\n",
       "      <td>y</td>\n",
       "      <td>0</td>\n",
       "      <td>n</td>\n",
       "      <td>?</td>\n",
       "    </tr>\n",
       "    <tr>\n",
       "      <th>3</th>\n",
       "      <td>hypothyroid</td>\n",
       "      <td>24</td>\n",
       "      <td>F</td>\n",
       "      <td>f</td>\n",
       "      <td>f</td>\n",
       "      <td>f</td>\n",
       "      <td>f</td>\n",
       "      <td>f</td>\n",
       "      <td>f</td>\n",
       "      <td>f</td>\n",
       "      <td>...</td>\n",
       "      <td>y</td>\n",
       "      <td>0.4</td>\n",
       "      <td>y</td>\n",
       "      <td>6</td>\n",
       "      <td>y</td>\n",
       "      <td>1.04</td>\n",
       "      <td>y</td>\n",
       "      <td>6</td>\n",
       "      <td>n</td>\n",
       "      <td>?</td>\n",
       "    </tr>\n",
       "    <tr>\n",
       "      <th>4</th>\n",
       "      <td>hypothyroid</td>\n",
       "      <td>77</td>\n",
       "      <td>M</td>\n",
       "      <td>f</td>\n",
       "      <td>f</td>\n",
       "      <td>f</td>\n",
       "      <td>f</td>\n",
       "      <td>f</td>\n",
       "      <td>f</td>\n",
       "      <td>f</td>\n",
       "      <td>...</td>\n",
       "      <td>y</td>\n",
       "      <td>1.2</td>\n",
       "      <td>y</td>\n",
       "      <td>57</td>\n",
       "      <td>y</td>\n",
       "      <td>1.28</td>\n",
       "      <td>y</td>\n",
       "      <td>44</td>\n",
       "      <td>n</td>\n",
       "      <td>?</td>\n",
       "    </tr>\n",
       "  </tbody>\n",
       "</table>\n",
       "<p>5 rows × 26 columns</p>\n",
       "</div>"
      ],
      "text/plain": [
       "       Disease Age Sex on_thyroxine query_on_thyroxine  \\\n",
       "0  hypothyroid  72   M            f                  f   \n",
       "1  hypothyroid  15   F            t                  f   \n",
       "2  hypothyroid  24   M            f                  f   \n",
       "3  hypothyroid  24   F            f                  f   \n",
       "4  hypothyroid  77   M            f                  f   \n",
       "\n",
       "  on_antithyroid_medication thyroid_surgery query_hypothyroid  \\\n",
       "0                         f               f                 f   \n",
       "1                         f               f                 f   \n",
       "2                         f               f                 f   \n",
       "3                         f               f                 f   \n",
       "4                         f               f                 f   \n",
       "\n",
       "  query_hyperthyroid pregnant  ... T3_measured   T3 TT4_measured TT4  \\\n",
       "0                  f        f  ...           y  0.6            y  15   \n",
       "1                  f        f  ...           y  1.7            y  19   \n",
       "2                  f        f  ...           y  0.2            y   4   \n",
       "3                  f        f  ...           y  0.4            y   6   \n",
       "4                  f        f  ...           y  1.2            y  57   \n",
       "\n",
       "  T4U_measured   T4U FTI_measured FTI TBG_measured TBG  \n",
       "0            y  1.48            y  10            n   ?  \n",
       "1            y  1.13            y  17            n   ?  \n",
       "2            y     1            y   0            n   ?  \n",
       "3            y  1.04            y   6            n   ?  \n",
       "4            y  1.28            y  44            n   ?  \n",
       "\n",
       "[5 rows x 26 columns]"
      ]
     },
     "execution_count": 5,
     "metadata": {},
     "output_type": "execute_result"
    }
   ],
   "source": [
    "df.head()"
   ]
  },
  {
   "cell_type": "code",
   "execution_count": 6,
   "metadata": {},
   "outputs": [],
   "source": [
    "#before the rename the target column\n",
    "df=df.rename(columns={df.columns[0]:\"target\"})"
   ]
  },
  {
   "cell_type": "code",
   "execution_count": 7,
   "metadata": {},
   "outputs": [
    {
     "data": {
      "text/plain": [
       "target                       0\n",
       "Age                          0\n",
       "Sex                          0\n",
       "on_thyroxine                 0\n",
       "query_on_thyroxine           0\n",
       "on_antithyroid_medication    0\n",
       "thyroid_surgery              0\n",
       "query_hypothyroid            0\n",
       "query_hyperthyroid           0\n",
       "pregnant                     0\n",
       "sick                         0\n",
       "tumor                        0\n",
       "lithium                      0\n",
       "goitre                       0\n",
       "TSH_measured                 0\n",
       "TSH                          0\n",
       "T3_measured                  0\n",
       "T3                           0\n",
       "TT4_measured                 0\n",
       "TT4                          0\n",
       "T4U_measured                 0\n",
       "T4U                          0\n",
       "FTI_measured                 0\n",
       "FTI                          0\n",
       "TBG_measured                 0\n",
       "TBG                          0\n",
       "dtype: int64"
      ]
     },
     "execution_count": 7,
     "metadata": {},
     "output_type": "execute_result"
    }
   ],
   "source": [
    "df.isna().sum() "
   ]
  },
  {
   "cell_type": "code",
   "execution_count": 8,
   "metadata": {},
   "outputs": [
    {
     "name": "stdout",
     "output_type": "stream",
     "text": [
      "target :  {'hypothyroid', 'negative'}\n",
      "Age :  {'86', '21', '92', '?', '37', '76', '88', '59', '15', '98', '14', '64', '19', '29', '40', '75', '74', '89', '30', '24', '54', '13', '93', '55', '78', '32', '4', '8', '90', '73', '27', '53', '11', '12', '9', '28', '42', '48', '16', '46', '71', '72', '61', '31', '39', '5', '66', '18', '57', '65', '58', '60', '50', '45', '81', '80', '84', '82', '56', '43', '52', '69', '51', '22', '6', '35', '85', '33', '67', '63', '47', '26', '97', '20', '70', '68', '34', '77', '49', '83', '87', '23', '10', '44', '41', '7', '1', '62', '25', '17', '38', '36', '79'}\n",
      "Sex :  {'F', 'M', '?'}\n",
      "on_thyroxine :  {'f', 't'}\n",
      "query_on_thyroxine :  {'f', 't'}\n",
      "on_antithyroid_medication :  {'f', 't'}\n",
      "thyroid_surgery :  {'f', 't'}\n",
      "query_hypothyroid :  {'f', 't'}\n",
      "query_hyperthyroid :  {'f', 't'}\n",
      "pregnant :  {'f', 't'}\n",
      "sick :  {'f', 't'}\n",
      "tumor :  {'f', 't'}\n",
      "lithium :  {'f', 't'}\n",
      "goitre :  {'f', 't'}\n",
      "TSH_measured :  {'y', 'n'}\n",
      "TSH :  {'21', '1.6', '92', '?', '213', '0.85', '0.6', '0.06', '86', '0.81', '2.2', '0.68', '117', '37', '76', '88', '0.67', '15', '59', '14', '4.9', '1.83', '109', '6.3', '19', '0.4', '0.21', '0.42', '8.5', '3', '29', '4.8', '40', '89', '3.1', '4.2', '9.9', '0.64', '0.03', '30', '0', '54', '24', '153', '13', '140', '7.7', '2.5', '0.5', '2.8', '8.9', '5.5', '0.46', '17.4', '55', '0.84', '0.83', '32', '4', '14.9', '0.08', '7.1', '14.3', '8', '90', '11', '53', '12', '27', '1.05', '5.2', '0.3', '0.65', '9', '3.9', '28', '0.92', '42', '9.7', '8.8', '11.4', '48', '2.3', '8.7', '530', '1.5', '0.7', '6.5', '16', '0.9', '1.8', '46', '96', '6.8', '126', '71', '5.6', '0.28', '6.2', '61', '31', '3.7', '7.4', '3.5', '39', '5', '0.01', '7.5', '0.07', '170', '16.5', '66', '13.3', '165', '9.2', '1.01', '1.1', '18', '57', '4.7', '9.8', '65', '2.4', '58', '0.26', '3.6', '160', '60', '138', '4.6', '14.4', '9.4', '50', '235', '0.25', '45', '0.37', '80', '6.9', '0.43', '82', '56', '0.77', '43', '8.6', '3.3', '5.8', '125', '52', '3.8', '13.2', '22', '6', '35', '85', '33', '4.3', '260', '63', '47', '9.1', '200', '0.62', '2', '26', '4.1', '9.5', '10.3', '1.2', '3.4', '0.02', '150', '176', '20', '7.8', '8.4', '70', '6.7', '216', '11.6', '0.35', '68', '34', '183', '10.7', '4.5', '100', '288', '0.91', '9.6', '15.3', '7.3', '6.1', '2.7', '4.4', '77', '0.23', '49', '5.1', '2.9', '5.9', '0.1', '23', '0.88', '10', '0.05', '430', '44', '41', '0.09', '5.4', '0.69', '0.15', '0.8', '19.2', '1', '6.4', '8.2', '178', '1.7', '164', '25', '0.04', '7.6', '17', '6.6', '143', '0.2', '1.3', '3.2', '8.3', '38', '1.4', '145', '8.1', '1.9', '36', '2.1', '2.6', '7.9'}\n",
      "T3_measured :  {'y', 'n'}\n",
      "T3 :  {'4.7', '1.6', '9.8', '6.7', '?', '0.6', '2.4', '3.6', '2.2', '4.5', '5.2', '4.6', '0.3', '6.1', '7.3', '2.7', '4.4', '3.9', '5.1', '2.9', '2.3', '0.1', '1.8', '1.5', '0.7', '4.9', '0.9', '0.05', '0.4', '10.2', '5.3', '7', '3', '5.6', '4.8', '8.6', '3.3', '0.8', '3.8', '3.7', '6.2', '1', '3.1', '4.3', '1.7', '3.5', '4.2', '7.6', '0', '5', '0.2', '6.6', '1.3', '3.2', '2.5', '0.5', '1.4', '2.8', '8.9', '5.5', '1.9', '8.1', '2', '2.1', '4', '4.1', '2.6', '1.2', '3.4', '1.1'}\n",
      "TT4_measured :  {'y', 'n'}\n",
      "TT4 :  {'162', '21', '86', '92', '?', '213', '181', '184', '254', '117', '37', '76', '185', '88', '205', '111', '132', '232', '98', '15', '59', '230', '14', '64', '248', '219', '263', '109', '99', '220', '19', '118', '146', '107', '209', '3', '29', '40', '193', '426', '114', '74', '75', '89', '244', '134', '119', '179', '136', '30', '180', '261', '54', '24', '110', '13', '93', '140', '153', '188', '55', '201', '78', '32', '4', '214', '296', '241', '113', '195', '359', '167', '90', '171', '127', '236', '73', '27', '53', '12', '11', '106', '198', '204', '223', '108', '208', '123', '211', '396', '9', '3.9', '28', '42', '9.7', '2.3', '48', '133', '16', '156', '46', '96', '202', '126', '240', '71', '72', '139', '158', '61', '31', '155', '137', '258', '169', '39', '7.5', '152', '222', '170', '66', '95', '256', '165', '197', '269', '186', '175', '172', '18', '141', '149', '191', '217', '57', '144', '275', '121', '65', '221', '58', '160', '60', '128', '138', '450', '116', '177', '50', '235', '45', '333', '81', '142', '80', '203', '218', '190', '84', '82', '56', '43', '8.6', '52', '225', '125', '69', '287', '51', '22', '6', '35', '85', '33', '255', '148', '168', '260', '166', '122', '67', '267', '247', '252', '124', '63', '239', '47', '224', '200', '130', '2', '4.1', '154', '245', '97', '129', '131', '150', '176', '20', '207', '70', '216', '68', '94', '34', '206', '183', '182', '103', '100', '199', '101', '7.3', '189', '105', '77', '49', '2.9', '83', '174', '87', '196', '91', '250', '23', '283', '10', '44', '151', '5.3', '41', '161', '430', '102', '301', '187', '115', '163', '308', '178', '62', '164', '25', '173', '7.6', '17', '112', '253', '6.6', '143', '194', '159', '157', '38', '8.1', '145', '36', '282', '210', '104', '135', '120', '79', '147', '242', '228', '212'}\n",
      "T4U_measured :  {'y', 'n'}\n",
      "T4U :  {'?', '0.6', '0.85', '0.81', '1.44', '0.68', '1.31', '1.66', '1.88', '0.67', '1.24', '1.49', '1.46', '1.83', '1.52', '0.72', '0.4', '0.94', '1.09', '0.48', '0.33', '1.39', '1.53', '0.64', '0', '1.08', '1.57', '0.73', '0.38', '0.84', '1.33', '1.67', '0.5', '0.83', '0.46', '1.21', '1.79', '0.66', '1.62', '0.82', '0.31', '1.55', '1.64', '0.59', '1.05', '1.37', '0.52', '1.12', '0.3', '1.68', '0.65', '0.92', '0.54', '1.28', '0.7', '1.5', '1.8', '1.14', '0.9', '1.16', '0.28', '0.87', '1.93', '1.11', '0.71', '1.43', '0.57', '1.06', '0.79', '1.19', '1.59', '1.02', '1.36', '0.63', '0.34', '1.45', '1.01', '1.76', '1.1', '1.63', '1.74', '0.74', '0.86', '0.78', '0.96', '1.42', '1.94', '0.95', '1.96', '1.26', '1.07', '1.73', '1.23', '2.01', '0.77', '0.97', '1.51', '1.13', '2.21', '1.72', '1.58', '1.22', '0.99', '1.27', '0.58', '0.29', '0.62', '2', '1.41', '1.71', '1.2', '0.41', '1.25', '0.98', '0.55', '1.61', '1.04', '1.18', '0.35', '1.48', '0.61', '1.77', '0.49', '0.91', '1.34', '0.56', '0.47', '1.35', '1.47', '1.32', '0.88', '1.65', '0.93', '1.56', '0.36', '1.03', '0.27', '0.69', '0.8', '1.54', '2.03', '1', '1.15', '0.89', '1.7', '1.86', '1.38', '0.2', '0.76', '1.17', '1.3', '1.75', '0.75', '0.32', '1.69', '1.4', '1.29', '1.97', '0.53'}\n",
      "FTI_measured :  {'y', 'n'}\n",
      "FTI :  {'162', '21', '86', '92', '?', '184', '181', '213', '192', '259', '702', '254', '117', '76', '37', '185', '215', '88', '205', '132', '111', '232', '15', '98', '59', '246', '14', '64', '219', '881', '248', '299', '263', '99', '109', '220', '19', '118', '146', '107', '209', '8.5', '3', '29', '839', '470', '40', '193', '114', '74', '89', '75', '244', '119', '134', '179', '334', '136', '0', '180', '188', '24', '54', '110', '13', '93', '140', '153', '8.9', '2.8', '5.5', '55', '78', '32', '4', '214', '241', '113', '195', '359', '167', '171', '90', '127', '73', '11', '12', '53', '106', '237', '204', '198', '355', '711', '108', '223', '208', '227', '123', '211', '9', '28', '347', '695', '650', '42', '612', '48', '8.7', '249', '133', '16', '156', '46', '96', '7.2', '202', '240', '126', '71', '305', '72', '139', '158', '61', '31', '155', '550', '137', '258', '169', '39', '5', '7.5', '152', '222', '170', '292', '332', '66', '95', '256', '165', '197', '186', '175', '172', '141', '149', '217', '634', '57', '144', '482', '121', '65', '221', '354', '58', '160', '337', '60', '128', '138', '450', '116', '428', '177', '345', '445', '50', '852', '45', '235', '81', '316', '142', '80', '190', '203', '218', '84', '82', '56', '43', '52', '125', '271', '69', '51', '264', '22', '6', '35', '85', '33', '148', '168', '166', '122', '67', '247', '124', '63', '229', '47', '239', '200', '130', '2', '26', '154', '615', '97', '131', '129', '3.4', '150', '176', '20', '8.4', '70', '216', '68', '94', '34', '182', '100', '103', '101', '189', '77', '105', '49', '196', '83', '174', '87', '91', '250', '23', '283', '10', '44', '151', '41', '7', '161', '102', '257', '115', '187', '163', '308', '178', '370', '164', '173', '17', '112', '6.6', '143', '194', '159', '157', '1.4', '145', '36', '266', '272', '104', '741', '135', '120', '79', '147', '228', '210', '212', '395', '485'}\n",
      "TBG_measured :  {'y', 'n'}\n",
      "TBG :  {'20', '8.4', '21', '27', '53', '?', '86', '11', '12', '65', '34', '37', '108', '9.3', '7.3', '28', '15', '50', '45', '14', '48', '16', '23', '80', '19', '41', '8.5', '43', '29', '52', '40', '69', '31', '3.1', '22', '35', '33', '25', '39', '17', '30', '0', '122', '110', '24', '13', '63', '38', '47', '36', '32', '26', '18'}\n"
     ]
    }
   ],
   "source": [
    "for column in df.columns:\n",
    "    listOfValues=set(df[column])\n",
    "    print(column,\": \",listOfValues)"
   ]
  },
  {
   "cell_type": "code",
   "execution_count": 9,
   "metadata": {},
   "outputs": [
    {
     "data": {
      "text/plain": [
       "target                          0\n",
       "Age                           446\n",
       "Sex                            73\n",
       "on_thyroxine                    0\n",
       "query_on_thyroxine              0\n",
       "on_antithyroid_medication       0\n",
       "thyroid_surgery                 0\n",
       "query_hypothyroid               0\n",
       "query_hyperthyroid              0\n",
       "pregnant                        0\n",
       "sick                            0\n",
       "tumor                           0\n",
       "lithium                         0\n",
       "goitre                          0\n",
       "TSH_measured                    0\n",
       "TSH                           468\n",
       "T3_measured                     0\n",
       "T3                            695\n",
       "TT4_measured                    0\n",
       "TT4                           249\n",
       "T4U_measured                    0\n",
       "T4U                           248\n",
       "FTI_measured                    0\n",
       "FTI                           247\n",
       "TBG_measured                    0\n",
       "TBG                          2903\n",
       "dtype: int64"
      ]
     },
     "execution_count": 9,
     "metadata": {},
     "output_type": "execute_result"
    }
   ],
   "source": [
    "df=df.replace({\"?\":np.NAN})\n",
    "df.isna().sum()"
   ]
  },
  {
   "cell_type": "code",
   "execution_count": 10,
   "metadata": {},
   "outputs": [],
   "source": [
    "del df[\"TBG\"]"
   ]
  },
  {
   "cell_type": "code",
   "execution_count": 11,
   "metadata": {},
   "outputs": [
    {
     "data": {
      "text/plain": [
       "target                         0\n",
       "Age                          418\n",
       "Sex                           68\n",
       "on_thyroxine                   0\n",
       "query_on_thyroxine             0\n",
       "on_antithyroid_medication      0\n",
       "thyroid_surgery                0\n",
       "query_hypothyroid              0\n",
       "query_hyperthyroid             0\n",
       "pregnant                       0\n",
       "sick                           0\n",
       "tumor                          0\n",
       "lithium                        0\n",
       "goitre                         0\n",
       "TSH_measured                   0\n",
       "TSH                          222\n",
       "T3_measured                    0\n",
       "T3                           449\n",
       "TT4_measured                   0\n",
       "TT4                            3\n",
       "T4U_measured                   0\n",
       "T4U                            2\n",
       "FTI_measured                   0\n",
       "FTI                            1\n",
       "TBG_measured                   0\n",
       "dtype: int64"
      ]
     },
     "execution_count": 11,
     "metadata": {},
     "output_type": "execute_result"
    }
   ],
   "source": [
    "df.dropna(axis = 0, thresh = 21, inplace = True)\n",
    "df.isna().sum()"
   ]
  },
  {
   "cell_type": "code",
   "execution_count": 12,
   "metadata": {},
   "outputs": [
    {
     "data": {
      "text/plain": [
       "target                         int64\n",
       "Age                           object\n",
       "Sex                          float64\n",
       "on_thyroxine                   int64\n",
       "query_on_thyroxine             int64\n",
       "on_antithyroid_medication      int64\n",
       "thyroid_surgery                int64\n",
       "query_hypothyroid              int64\n",
       "query_hyperthyroid             int64\n",
       "pregnant                       int64\n",
       "sick                           int64\n",
       "tumor                          int64\n",
       "lithium                        int64\n",
       "goitre                         int64\n",
       "TSH_measured                   int64\n",
       "TSH                           object\n",
       "T3_measured                    int64\n",
       "T3                            object\n",
       "TT4_measured                   int64\n",
       "TT4                           object\n",
       "T4U_measured                   int64\n",
       "T4U                           object\n",
       "FTI_measured                   int64\n",
       "FTI                           object\n",
       "TBG_measured                   int64\n",
       "dtype: object"
      ]
     },
     "metadata": {},
     "output_type": "display_data"
    }
   ],
   "source": [
    "df = df.replace({\"t\":1,\"f\":0, \"y\":1, \"n\":0, \"hypothyroid\":1, \"negative\":0, \"F\":1, \"M\":0})\n",
    "display(df.dtypes)"
   ]
  },
  {
   "cell_type": "code",
   "execution_count": 13,
   "metadata": {},
   "outputs": [
    {
     "data": {
      "text/plain": [
       "target                       0\n",
       "Age                          0\n",
       "Sex                          0\n",
       "on_thyroxine                 0\n",
       "query_on_thyroxine           0\n",
       "on_antithyroid_medication    0\n",
       "thyroid_surgery              0\n",
       "query_hypothyroid            0\n",
       "query_hyperthyroid           0\n",
       "pregnant                     0\n",
       "sick                         0\n",
       "tumor                        0\n",
       "lithium                      0\n",
       "goitre                       0\n",
       "TSH_measured                 0\n",
       "TSH                          0\n",
       "T3_measured                  0\n",
       "T3                           0\n",
       "TT4_measured                 0\n",
       "TT4                          0\n",
       "T4U_measured                 0\n",
       "T4U                          0\n",
       "FTI_measured                 0\n",
       "FTI                          0\n",
       "TBG_measured                 0\n",
       "dtype: int64"
      ]
     },
     "execution_count": 13,
     "metadata": {},
     "output_type": "execute_result"
    }
   ],
   "source": [
    "cols = df.columns[df.dtypes.eq('object')]\n",
    "df[cols] = df[cols].apply(pd.to_numeric, errors='coerce')\n",
    "\n",
    "df = df.interpolate(method = 'spline', order = 4)\n",
    "df.isna().sum()"
   ]
  },
  {
   "cell_type": "code",
   "execution_count": 14,
   "metadata": {},
   "outputs": [
    {
     "data": {
      "text/plain": [
       "<matplotlib.axes._subplots.AxesSubplot at 0x161852fbeb0>"
      ]
     },
     "execution_count": 14,
     "metadata": {},
     "output_type": "execute_result"
    },
    {
     "data": {
      "image/png": "[encoded data removed]",
      "text/plain": [
       "<Figure size 432x288 with 1 Axes>"
      ]
     },
     "metadata": {
      "needs_background": "light"
     },
     "output_type": "display_data"
    }
   ],
   "source": [
    "df[['Age','TSH','T3','TT4','T4U','FTI']].boxplot()"
   ]
  },
  {
   "cell_type": "code",
   "execution_count": 15,
   "metadata": {},
   "outputs": [
    {
     "data": {
      "text/plain": [
       "<BarContainer object of 2917 artists>"
      ]
     },
     "execution_count": 15,
     "metadata": {},
     "output_type": "execute_result"
    },
    {
     "data": {
      "image/png": "[encoded data removed]",
      "text/plain": [
       "<Figure size 432x288 with 1 Axes>"
      ]
     },
     "metadata": {
      "needs_background": "light"
     },
     "output_type": "display_data"
    }
   ],
   "source": [
    "plt.bar(x=df['target'],height=0.5)"
   ]
  },
  {
   "cell_type": "code",
   "execution_count": 16,
   "metadata": {},
   "outputs": [
    {
     "data": {
      "text/plain": [
       "0    2766\n",
       "1     151\n",
       "Name: target, dtype: int64"
      ]
     },
     "execution_count": 16,
     "metadata": {},
     "output_type": "execute_result"
    }
   ],
   "source": [
    "df.target.value_counts()"
   ]
  },
  {
   "cell_type": "code",
   "execution_count": 26,
   "metadata": {},
   "outputs": [
    {
     "ename": "ValueError",
     "evalue": "Could not interpret input 'Predict Based on Sex'",
     "output_type": "error",
     "traceback": [
      "\u001b[1;31m---------------------------------------------------------------------------\u001b[0m",
      "\u001b[1;31mValueError\u001b[0m                                Traceback (most recent call last)",
      "\u001b[1;32m<ipython-input-26-c3e643dd08cd>\u001b[0m in \u001b[0;36m<module>\u001b[1;34m\u001b[0m\n\u001b[0;32m     11\u001b[0m         \u001b[0max\u001b[0m\u001b[1;33m.\u001b[0m\u001b[0mset_xticklabels\u001b[0m\u001b[1;33m(\u001b[0m\u001b[1;33m[\u001b[0m\u001b[1;34m'{:,.0%}'\u001b[0m\u001b[1;33m.\u001b[0m\u001b[0mformat\u001b[0m\u001b[1;33m(\u001b[0m\u001b[0mx\u001b[0m\u001b[1;33m)\u001b[0m \u001b[1;32mfor\u001b[0m \u001b[0mx\u001b[0m \u001b[1;32min\u001b[0m \u001b[0max\u001b[0m\u001b[1;33m.\u001b[0m\u001b[0mget_xticks\u001b[0m\u001b[1;33m(\u001b[0m\u001b[1;33m)\u001b[0m\u001b[1;33m]\u001b[0m\u001b[1;33m)\u001b[0m\u001b[1;33m\u001b[0m\u001b[1;33m\u001b[0m\u001b[0m\n\u001b[0;32m     12\u001b[0m     \u001b[0max\u001b[0m\u001b[1;33m.\u001b[0m\u001b[0mplot\u001b[0m\u001b[1;33m(\u001b[0m\u001b[1;33m)\u001b[0m\u001b[1;33m\u001b[0m\u001b[1;33m\u001b[0m\u001b[0m\n\u001b[1;32m---> 13\u001b[1;33m \u001b[0mbarplot_percentages\u001b[0m\u001b[1;33m(\u001b[0m\u001b[0mdf\u001b[0m\u001b[1;33m[\u001b[0m\u001b[1;34m\"Sex\"\u001b[0m\u001b[1;33m]\u001b[0m\u001b[1;33m)\u001b[0m\u001b[1;33m\u001b[0m\u001b[1;33m\u001b[0m\u001b[0m\n\u001b[0m",
      "\u001b[1;32m<ipython-input-26-c3e643dd08cd>\u001b[0m in \u001b[0;36mbarplot_percentages\u001b[1;34m(feature, orient, axis_name)\u001b[0m\n\u001b[0;32m      5\u001b[0m     \u001b[0mg\u001b[0m\u001b[1;33m[\u001b[0m\u001b[0maxis_name\u001b[0m\u001b[1;33m]\u001b[0m \u001b[1;33m=\u001b[0m \u001b[0mg\u001b[0m\u001b[1;33m[\u001b[0m\u001b[0maxis_name\u001b[0m\u001b[1;33m]\u001b[0m\u001b[1;33m/\u001b[0m\u001b[0mlen\u001b[0m\u001b[1;33m(\u001b[0m\u001b[0mdf\u001b[0m\u001b[1;33m)\u001b[0m\u001b[1;33m\u001b[0m\u001b[1;33m\u001b[0m\u001b[0m\n\u001b[0;32m      6\u001b[0m     \u001b[1;32mif\u001b[0m \u001b[0morient\u001b[0m \u001b[1;33m==\u001b[0m \u001b[1;34m'v'\u001b[0m\u001b[1;33m:\u001b[0m\u001b[1;33m\u001b[0m\u001b[1;33m\u001b[0m\u001b[0m\n\u001b[1;32m----> 7\u001b[1;33m         \u001b[0max\u001b[0m \u001b[1;33m=\u001b[0m \u001b[0msns\u001b[0m\u001b[1;33m.\u001b[0m\u001b[0mbarplot\u001b[0m\u001b[1;33m(\u001b[0m\u001b[0mx\u001b[0m\u001b[1;33m=\u001b[0m\u001b[0mfeature\u001b[0m\u001b[1;33m,\u001b[0m \u001b[0my\u001b[0m\u001b[1;33m=\u001b[0m \u001b[0maxis_name\u001b[0m\u001b[1;33m,\u001b[0m \u001b[0mhue\u001b[0m\u001b[1;33m=\u001b[0m\u001b[1;34m'pregnant'\u001b[0m\u001b[1;33m,\u001b[0m \u001b[0mdf\u001b[0m\u001b[1;33m=\u001b[0m\u001b[0mg\u001b[0m\u001b[1;33m,\u001b[0m \u001b[0morient\u001b[0m\u001b[1;33m=\u001b[0m\u001b[0morient\u001b[0m\u001b[1;33m)\u001b[0m\u001b[1;33m\u001b[0m\u001b[1;33m\u001b[0m\u001b[0m\n\u001b[0m\u001b[0;32m      8\u001b[0m         \u001b[0max\u001b[0m\u001b[1;33m.\u001b[0m\u001b[0mset_yticklabels\u001b[0m\u001b[1;33m(\u001b[0m\u001b[1;33m[\u001b[0m\u001b[1;34m'{:,.0%}'\u001b[0m\u001b[1;33m.\u001b[0m\u001b[0mformat\u001b[0m\u001b[1;33m(\u001b[0m\u001b[0my\u001b[0m\u001b[1;33m)\u001b[0m \u001b[1;32mfor\u001b[0m \u001b[0my\u001b[0m \u001b[1;32min\u001b[0m \u001b[0max\u001b[0m\u001b[1;33m.\u001b[0m\u001b[0mget_yticks\u001b[0m\u001b[1;33m(\u001b[0m\u001b[1;33m)\u001b[0m\u001b[1;33m]\u001b[0m\u001b[1;33m)\u001b[0m\u001b[1;33m\u001b[0m\u001b[1;33m\u001b[0m\u001b[0m\n\u001b[0;32m      9\u001b[0m     \u001b[1;32melse\u001b[0m\u001b[1;33m:\u001b[0m\u001b[1;33m\u001b[0m\u001b[1;33m\u001b[0m\u001b[0m\n",
      "\u001b[1;32m~\\anaconda3\\lib\\site-packages\\seaborn\\categorical.py\u001b[0m in \u001b[0;36mbarplot\u001b[1;34m(x, y, hue, data, order, hue_order, estimator, ci, n_boot, units, seed, orient, color, palette, saturation, errcolor, errwidth, capsize, dodge, ax, **kwargs)\u001b[0m\n\u001b[0;32m   3142\u001b[0m             ax=None, **kwargs):\n\u001b[0;32m   3143\u001b[0m \u001b[1;33m\u001b[0m\u001b[0m\n\u001b[1;32m-> 3144\u001b[1;33m     plotter = _BarPlotter(x, y, hue, data, order, hue_order,\n\u001b[0m\u001b[0;32m   3145\u001b[0m                           \u001b[0mestimator\u001b[0m\u001b[1;33m,\u001b[0m \u001b[0mci\u001b[0m\u001b[1;33m,\u001b[0m \u001b[0mn_boot\u001b[0m\u001b[1;33m,\u001b[0m \u001b[0munits\u001b[0m\u001b[1;33m,\u001b[0m \u001b[0mseed\u001b[0m\u001b[1;33m,\u001b[0m\u001b[1;33m\u001b[0m\u001b[1;33m\u001b[0m\u001b[0m\n\u001b[0;32m   3146\u001b[0m                           \u001b[0morient\u001b[0m\u001b[1;33m,\u001b[0m \u001b[0mcolor\u001b[0m\u001b[1;33m,\u001b[0m \u001b[0mpalette\u001b[0m\u001b[1;33m,\u001b[0m \u001b[0msaturation\u001b[0m\u001b[1;33m,\u001b[0m\u001b[1;33m\u001b[0m\u001b[1;33m\u001b[0m\u001b[0m\n",
      "\u001b[1;32m~\\anaconda3\\lib\\site-packages\\seaborn\\categorical.py\u001b[0m in \u001b[0;36m__init__\u001b[1;34m(self, x, y, hue, data, order, hue_order, estimator, ci, n_boot, units, seed, orient, color, palette, saturation, errcolor, errwidth, capsize, dodge)\u001b[0m\n\u001b[0;32m   1600\u001b[0m                  errwidth, capsize, dodge):\n\u001b[0;32m   1601\u001b[0m         \u001b[1;34m\"\"\"Initialize the plotter.\"\"\"\u001b[0m\u001b[1;33m\u001b[0m\u001b[1;33m\u001b[0m\u001b[0m\n\u001b[1;32m-> 1602\u001b[1;33m         self.establish_variables(x, y, hue, data, orient,\n\u001b[0m\u001b[0;32m   1603\u001b[0m                                  order, hue_order, units)\n\u001b[0;32m   1604\u001b[0m         \u001b[0mself\u001b[0m\u001b[1;33m.\u001b[0m\u001b[0mestablish_colors\u001b[0m\u001b[1;33m(\u001b[0m\u001b[0mcolor\u001b[0m\u001b[1;33m,\u001b[0m \u001b[0mpalette\u001b[0m\u001b[1;33m,\u001b[0m \u001b[0msaturation\u001b[0m\u001b[1;33m)\u001b[0m\u001b[1;33m\u001b[0m\u001b[1;33m\u001b[0m\u001b[0m\n",
      "\u001b[1;32m~\\anaconda3\\lib\\site-packages\\seaborn\\categorical.py\u001b[0m in \u001b[0;36mestablish_variables\u001b[1;34m(self, x, y, hue, data, orient, order, hue_order, units)\u001b[0m\n\u001b[0;32m    150\u001b[0m                 \u001b[1;32mif\u001b[0m \u001b[0misinstance\u001b[0m\u001b[1;33m(\u001b[0m\u001b[0mvar\u001b[0m\u001b[1;33m,\u001b[0m \u001b[0mstr\u001b[0m\u001b[1;33m)\u001b[0m\u001b[1;33m:\u001b[0m\u001b[1;33m\u001b[0m\u001b[1;33m\u001b[0m\u001b[0m\n\u001b[0;32m    151\u001b[0m                     \u001b[0merr\u001b[0m \u001b[1;33m=\u001b[0m \u001b[1;34m\"Could not interpret input '{}'\"\u001b[0m\u001b[1;33m.\u001b[0m\u001b[0mformat\u001b[0m\u001b[1;33m(\u001b[0m\u001b[0mvar\u001b[0m\u001b[1;33m)\u001b[0m\u001b[1;33m\u001b[0m\u001b[1;33m\u001b[0m\u001b[0m\n\u001b[1;32m--> 152\u001b[1;33m                     \u001b[1;32mraise\u001b[0m \u001b[0mValueError\u001b[0m\u001b[1;33m(\u001b[0m\u001b[0merr\u001b[0m\u001b[1;33m)\u001b[0m\u001b[1;33m\u001b[0m\u001b[1;33m\u001b[0m\u001b[0m\n\u001b[0m\u001b[0;32m    153\u001b[0m \u001b[1;33m\u001b[0m\u001b[0m\n\u001b[0;32m    154\u001b[0m             \u001b[1;31m# Figure out the plotting orientation\u001b[0m\u001b[1;33m\u001b[0m\u001b[1;33m\u001b[0m\u001b[1;33m\u001b[0m\u001b[0m\n",
      "\u001b[1;31mValueError\u001b[0m: Could not interpret input 'Predict Based on Sex'"
     ]
    }
   ],
   "source": [
    "def barplot_percentages(feature, orient='v', axis_name=\"Predict Based on Sex\"):\n",
    "    ratios = pd.DataFrame()\n",
    "    g = df.groupby(feature)[\"pregnant\"].value_counts().to_frame()\n",
    "    g = g.rename({\"pregnant\": axis_name}, axis=1).reset_index()\n",
    "    g[axis_name] = g[axis_name]/len(df)\n",
    "    if orient == 'v':\n",
    "        ax = sns.barplot(x=feature, y= axis_name, hue='pregnant', df=g, orient=orient)\n",
    "        ax.set_yticklabels(['{:,.0%}'.format(y) for y in ax.get_yticks()])\n",
    "    else:\n",
    "        ax = sns.barplot(x= axis_name, y=feature, hue='pregnant', df=g, orient=orient)\n",
    "        ax.set_xticklabels(['{:,.0%}'.format(x) for x in ax.get_xticks()])\n",
    "    ax.plot()\n",
    "barplot_percentages(df[\"Sex\"])"
   ]
  },
  {
   "cell_type": "code",
   "execution_count": 18,
   "metadata": {},
   "outputs": [
    {
     "data": {
      "text/html": [
       "<div>\n",
       "<style scoped>\n",
       "    .dataframe tbody tr th:only-of-type {\n",
       "        vertical-align: middle;\n",
       "    }\n",
       "\n",
       "    .dataframe tbody tr th {\n",
       "        vertical-align: top;\n",
       "    }\n",
       "\n",
       "    .dataframe thead th {\n",
       "        text-align: right;\n",
       "    }\n",
       "</style>\n",
       "<table border=\"1\" class=\"dataframe\">\n",
       "  <thead>\n",
       "    <tr style=\"text-align: right;\">\n",
       "      <th></th>\n",
       "      <th>target</th>\n",
       "      <th>Age</th>\n",
       "      <th>Sex</th>\n",
       "      <th>on_thyroxine</th>\n",
       "      <th>query_on_thyroxine</th>\n",
       "      <th>on_antithyroid_medication</th>\n",
       "      <th>thyroid_surgery</th>\n",
       "      <th>query_hypothyroid</th>\n",
       "      <th>query_hyperthyroid</th>\n",
       "      <th>pregnant</th>\n",
       "      <th>...</th>\n",
       "      <th>TSH</th>\n",
       "      <th>T3_measured</th>\n",
       "      <th>T3</th>\n",
       "      <th>TT4_measured</th>\n",
       "      <th>TT4</th>\n",
       "      <th>T4U_measured</th>\n",
       "      <th>T4U</th>\n",
       "      <th>FTI_measured</th>\n",
       "      <th>FTI</th>\n",
       "      <th>TBG_measured</th>\n",
       "    </tr>\n",
       "  </thead>\n",
       "  <tbody>\n",
       "    <tr>\n",
       "      <th>0</th>\n",
       "      <td>1</td>\n",
       "      <td>8</td>\n",
       "      <td>0.0</td>\n",
       "      <td>0</td>\n",
       "      <td>0</td>\n",
       "      <td>0</td>\n",
       "      <td>0</td>\n",
       "      <td>0</td>\n",
       "      <td>0</td>\n",
       "      <td>0</td>\n",
       "      <td>...</td>\n",
       "      <td>7</td>\n",
       "      <td>1</td>\n",
       "      <td>0</td>\n",
       "      <td>1</td>\n",
       "      <td>0</td>\n",
       "      <td>1</td>\n",
       "      <td>9</td>\n",
       "      <td>1</td>\n",
       "      <td>0</td>\n",
       "      <td>0</td>\n",
       "    </tr>\n",
       "    <tr>\n",
       "      <th>1</th>\n",
       "      <td>1</td>\n",
       "      <td>0</td>\n",
       "      <td>1.0</td>\n",
       "      <td>1</td>\n",
       "      <td>0</td>\n",
       "      <td>0</td>\n",
       "      <td>0</td>\n",
       "      <td>0</td>\n",
       "      <td>0</td>\n",
       "      <td>0</td>\n",
       "      <td>...</td>\n",
       "      <td>7</td>\n",
       "      <td>1</td>\n",
       "      <td>3</td>\n",
       "      <td>1</td>\n",
       "      <td>0</td>\n",
       "      <td>1</td>\n",
       "      <td>8</td>\n",
       "      <td>1</td>\n",
       "      <td>0</td>\n",
       "      <td>0</td>\n",
       "    </tr>\n",
       "    <tr>\n",
       "      <th>2</th>\n",
       "      <td>1</td>\n",
       "      <td>0</td>\n",
       "      <td>0.0</td>\n",
       "      <td>0</td>\n",
       "      <td>0</td>\n",
       "      <td>0</td>\n",
       "      <td>0</td>\n",
       "      <td>0</td>\n",
       "      <td>0</td>\n",
       "      <td>0</td>\n",
       "      <td>...</td>\n",
       "      <td>0</td>\n",
       "      <td>1</td>\n",
       "      <td>0</td>\n",
       "      <td>1</td>\n",
       "      <td>0</td>\n",
       "      <td>1</td>\n",
       "      <td>5</td>\n",
       "      <td>1</td>\n",
       "      <td>0</td>\n",
       "      <td>0</td>\n",
       "    </tr>\n",
       "    <tr>\n",
       "      <th>3</th>\n",
       "      <td>1</td>\n",
       "      <td>0</td>\n",
       "      <td>1.0</td>\n",
       "      <td>0</td>\n",
       "      <td>0</td>\n",
       "      <td>0</td>\n",
       "      <td>0</td>\n",
       "      <td>0</td>\n",
       "      <td>0</td>\n",
       "      <td>0</td>\n",
       "      <td>...</td>\n",
       "      <td>7</td>\n",
       "      <td>1</td>\n",
       "      <td>0</td>\n",
       "      <td>1</td>\n",
       "      <td>0</td>\n",
       "      <td>1</td>\n",
       "      <td>6</td>\n",
       "      <td>1</td>\n",
       "      <td>0</td>\n",
       "      <td>0</td>\n",
       "    </tr>\n",
       "    <tr>\n",
       "      <th>4</th>\n",
       "      <td>1</td>\n",
       "      <td>8</td>\n",
       "      <td>0.0</td>\n",
       "      <td>0</td>\n",
       "      <td>0</td>\n",
       "      <td>0</td>\n",
       "      <td>0</td>\n",
       "      <td>0</td>\n",
       "      <td>0</td>\n",
       "      <td>0</td>\n",
       "      <td>...</td>\n",
       "      <td>6</td>\n",
       "      <td>1</td>\n",
       "      <td>1</td>\n",
       "      <td>1</td>\n",
       "      <td>0</td>\n",
       "      <td>1</td>\n",
       "      <td>9</td>\n",
       "      <td>1</td>\n",
       "      <td>0</td>\n",
       "      <td>0</td>\n",
       "    </tr>\n",
       "  </tbody>\n",
       "</table>\n",
       "<p>5 rows × 25 columns</p>\n",
       "</div>"
      ],
      "text/plain": [
       "   target  Age  Sex  on_thyroxine  query_on_thyroxine  \\\n",
       "0       1    8  0.0             0                   0   \n",
       "1       1    0  1.0             1                   0   \n",
       "2       1    0  0.0             0                   0   \n",
       "3       1    0  1.0             0                   0   \n",
       "4       1    8  0.0             0                   0   \n",
       "\n",
       "   on_antithyroid_medication  thyroid_surgery  query_hypothyroid  \\\n",
       "0                          0                0                  0   \n",
       "1                          0                0                  0   \n",
       "2                          0                0                  0   \n",
       "3                          0                0                  0   \n",
       "4                          0                0                  0   \n",
       "\n",
       "   query_hyperthyroid  pregnant  ...  TSH  T3_measured  T3  TT4_measured  TT4  \\\n",
       "0                   0         0  ...    7            1   0             1    0   \n",
       "1                   0         0  ...    7            1   3             1    0   \n",
       "2                   0         0  ...    0            1   0             1    0   \n",
       "3                   0         0  ...    7            1   0             1    0   \n",
       "4                   0         0  ...    6            1   1             1    0   \n",
       "\n",
       "   T4U_measured  T4U  FTI_measured  FTI  TBG_measured  \n",
       "0             1    9             1    0             0  \n",
       "1             1    8             1    0             0  \n",
       "2             1    5             1    0             0  \n",
       "3             1    6             1    0             0  \n",
       "4             1    9             1    0             0  \n",
       "\n",
       "[5 rows x 25 columns]"
      ]
     },
     "metadata": {},
     "output_type": "display_data"
    }
   ],
   "source": [
    "def fdiscretizer(attribute,dataframe):\n",
    "    enc = LabelEncoder()\n",
    "    dataframe[attribute] = pd.qcut(dataframe[attribute], 10, duplicates='drop')\n",
    "    dataframe[attribute] = enc.fit_transform(dataframe[attribute])\n",
    "    dataframe = dataframe.convert_dtypes(convert_integer=True)\n",
    "\n",
    "fdiscretizer('Age',df)\n",
    "fdiscretizer('TSH',df)\n",
    "fdiscretizer('T3',df)\n",
    "fdiscretizer('TT4',df)\n",
    "fdiscretizer('T4U',df)\n",
    "fdiscretizer('FTI',df)\n",
    "\n",
    "display(df.head())"
   ]
  },
  {
   "cell_type": "code",
   "execution_count": 19,
   "metadata": {},
   "outputs": [
    {
     "data": {
      "text/plain": [
       "TSH    0.372181\n",
       "T3     0.202297\n",
       "TT4    0.345405\n",
       "T4U    0.109854\n",
       "FTI    0.355763\n",
       "Name: target, dtype: float64"
      ]
     },
     "execution_count": 19,
     "metadata": {},
     "output_type": "execute_result"
    }
   ],
   "source": [
    "corr_values = abs(df[df.columns[0:]].corr()['target'][:])\n",
    "corr_values = corr_values.drop('target')\n",
    "corr_values = corr_values[corr_values > 0.10]\n",
    "corr_values"
   ]
  },
  {
   "cell_type": "code",
   "execution_count": 20,
   "metadata": {},
   "outputs": [],
   "source": [
    "def holdout(dataframe):\n",
    "  x = dataframe[corr_values.index]\n",
    "  y = dataframe['target']\n",
    "  X_train, X_test, y_train, y_test = train_test_split(x, y, test_size=0.33) \n",
    "  return X_train, X_test, y_train, y_test\n",
    "\n",
    "X_train, X_test, y_train, y_test = holdout(df)"
   ]
  },
  {
   "cell_type": "code",
   "execution_count": 21,
   "metadata": {},
   "outputs": [],
   "source": [
    "classifiers = {\n",
    "    \"Nearest Neighbors\" : KNeighborsClassifier(3),\n",
    "    \"Decision Tree\" : DecisionTreeClassifier(max_depth=5),\n",
    "    \"Naive Bayes\" : GaussianNB(),\n",
    "    \"Support Vector Machine\" : SVC()\n",
    "}"
   ]
  },
  {
   "cell_type": "code",
   "execution_count": 25,
   "metadata": {},
   "outputs": [
    {
     "data": {
      "text/html": [
       "<div>\n",
       "<style scoped>\n",
       "    .dataframe tbody tr th:only-of-type {\n",
       "        vertical-align: middle;\n",
       "    }\n",
       "\n",
       "    .dataframe tbody tr th {\n",
       "        vertical-align: top;\n",
       "    }\n",
       "\n",
       "    .dataframe thead th {\n",
       "        text-align: right;\n",
       "    }\n",
       "</style>\n",
       "<table border=\"1\" class=\"dataframe\">\n",
       "  <thead>\n",
       "    <tr style=\"text-align: right;\">\n",
       "      <th></th>\n",
       "      <th>Classifier</th>\n",
       "      <th>Precision</th>\n",
       "      <th>Recall</th>\n",
       "      <th>FScore</th>\n",
       "    </tr>\n",
       "    <tr>\n",
       "      <th>Accuracy</th>\n",
       "      <th></th>\n",
       "      <th></th>\n",
       "      <th></th>\n",
       "      <th></th>\n",
       "    </tr>\n",
       "  </thead>\n",
       "  <tbody>\n",
       "    <tr>\n",
       "      <th>0.9792</th>\n",
       "      <td>Decision Tree</td>\n",
       "      <td>0.8622</td>\n",
       "      <td>0.9487</td>\n",
       "      <td>0.9002</td>\n",
       "    </tr>\n",
       "    <tr>\n",
       "      <th>0.9782</th>\n",
       "      <td>Nearest Neighbors</td>\n",
       "      <td>0.8665</td>\n",
       "      <td>0.9179</td>\n",
       "      <td>0.8903</td>\n",
       "    </tr>\n",
       "    <tr>\n",
       "      <th>0.9772</th>\n",
       "      <td>Support Vector Machine</td>\n",
       "      <td>0.8676</td>\n",
       "      <td>0.8972</td>\n",
       "      <td>0.8817</td>\n",
       "    </tr>\n",
       "    <tr>\n",
       "      <th>0.9398</th>\n",
       "      <td>Naive Bayes</td>\n",
       "      <td>0.7227</td>\n",
       "      <td>0.9582</td>\n",
       "      <td>0.7903</td>\n",
       "    </tr>\n",
       "  </tbody>\n",
       "</table>\n",
       "</div>"
      ],
      "text/plain": [
       "                      Classifier  Precision  Recall  FScore\n",
       "Accuracy                                                   \n",
       "0.9792             Decision Tree     0.8622  0.9487  0.9002\n",
       "0.9782         Nearest Neighbors     0.8665  0.9179  0.8903\n",
       "0.9772    Support Vector Machine     0.8676  0.8972  0.8817\n",
       "0.9398               Naive Bayes     0.7227  0.9582  0.7903"
      ]
     },
     "metadata": {},
     "output_type": "display_data"
    }
   ],
   "source": [
    "def classification(classifiers):\n",
    "    # Creo un dataframe per visualizzare i risultati calcolati\n",
    "  res = pd.DataFrame(columns=[\"Classifier\", \n",
    "                                \"Accuracy\", \n",
    "                                \"Precision\", \n",
    "                                \"Recall\", \n",
    "                                \"FScore\"])\n",
    "  for name, clf in classifiers.items():\n",
    "            clf.fit(X_train, y_train)\n",
    "            y_pred = clf.predict(X_test)\n",
    "            pr, rc, fs, sup = metrics.precision_recall_fscore_support(y_test, y_pred, average='macro')\n",
    "            res = res.append({\"Classifier\": name,\"Accuracy\": round(metrics.accuracy_score(y_test, y_pred), 4),\n",
    "                              \"Precision\": round(pr, 4), \"Recall\":round(rc, 4), \"FScore\":round(fs, 4)}, ignore_index=True)\n",
    "                 \n",
    "  res.set_index(\"Accuracy\", inplace=True)\n",
    "  res.sort_values(by=\"Accuracy\", ascending=False, inplace=True)   \n",
    "  return res\n",
    "\n",
    "display(classification(classifiers))"
   ]
  }
 ],
 "metadata": {
  "kernelspec": {
   "display_name": "Python 3",
   "language": "python",
   "name": "python3"
  },
  "language_info": {
   "codemirror_mode": {
    "name": "ipython",
    "version": 3
   },
   "file_extension": ".py",
   "mimetype": "text/x-python",
   "name": "python",
   "nbconvert_exporter": "python",
   "pygments_lexer": "ipython3",
   "version": "3.8.3"
  }
 },
 "nbformat": 4,
 "nbformat_minor": 4
}
